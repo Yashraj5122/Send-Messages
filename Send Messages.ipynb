{
 "cells": [
  {
   "cell_type": "code",
   "execution_count": 5,
   "id": "ae0e08cb",
   "metadata": {},
   "outputs": [
    {
     "name": "stdout",
     "output_type": "stream",
     "text": [
      "{'success': False, 'error': 'Your phone number was not provided in E.164 format, or free SMS are disabled for this country'}\n"
     ]
    }
   ],
   "source": [
    "import requests\n",
    "mess = requests.post('https://textbelt.com/text',{\n",
    "    'phone' : '0000000000',\n",
    "    'message' : 'Hello World',\n",
    "    'key' : 'textbelt'\n",
    "})\n",
    "\n",
    "print(mess.json())"
   ]
  },
  {
   "cell_type": "code",
   "execution_count": null,
   "id": "16757686",
   "metadata": {},
   "outputs": [],
   "source": []
  }
 ],
 "metadata": {
  "kernelspec": {
   "display_name": "Python 3 (ipykernel)",
   "language": "python",
   "name": "python3"
  },
  "language_info": {
   "codemirror_mode": {
    "name": "ipython",
    "version": 3
   },
   "file_extension": ".py",
   "mimetype": "text/x-python",
   "name": "python",
   "nbconvert_exporter": "python",
   "pygments_lexer": "ipython3",
   "version": "3.9.12"
  }
 },
 "nbformat": 4,
 "nbformat_minor": 5
}
